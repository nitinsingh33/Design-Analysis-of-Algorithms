{
 "cells": [
  {
   "cell_type": "markdown",
   "metadata": {},
   "source": [
    "Quick Sort is a divide and conquer algorithm that works by selecting a \"pivot\" element, partitioning the array into two sub-arrays, and then recursively sorting those sub-arrays.\n",
    "\n",
    "Gneral Principle (Qicksort):\n",
    "\n",
    "    1. Choose pivot element (usually last or random)\n",
    "\n",
    "    2. All elements less than pivot stores in left subarray\n",
    "       All elements grester than pivot stores in right subarray\n",
    "       \n",
    "    3. Call quicksort recursively on left subarray\n",
    "       Call quicksort recursively on right subarray  \n"
   ]
  },
  {
   "cell_type": "code",
   "execution_count": 29,
   "metadata": {},
   "outputs": [
    {
     "name": "stdout",
     "output_type": "stream",
     "text": [
      "[10, 80, 30, 90, 50, 40, 70]\n"
     ]
    }
   ],
   "source": [
    "def quick_sort(arr):\n",
    "    if len(arr) <= 1:   # Base case: if the array has 1 or 0 elements, it's already sorted \n",
    "        return arr \n",
    "\n",
    "    # Step 1: Choose a pivot (let's choose the last element as the pivot)\n",
    "    pivot = arr[-1]   \n",
    "\n",
    "    # Step 2: Partitioning the array into two sub-arrays:\n",
    "    # - Elements less than the pivot (left part)\n",
    "    # - Elements greater than the pivot (right part)\n",
    "    left = [x for x in arr[:-1] if x <= pivot]    # All elments <= pivot\n",
    "    right = [x for x in arr[:-1] if x > pivot]   # All elements > pivot\n",
    "\n",
    "    # Step 3: Recursively apply quick_sort to the left and right sub-arrays\n",
    "    # Combine the sorted left part, pivot, and sorted right part\n",
    "    return quick_sort(left) + [pivot] + quick_sort(right)\n",
    "\n",
    "arr_test = [10, 80, 30, 90, 50, 40, 70]\n",
    "quick_sort(arr_test)\n",
    "print(arr_test)"
   ]
  }
 ],
 "metadata": {
  "kernelspec": {
   "display_name": "Python 3",
   "language": "python",
   "name": "python3"
  },
  "language_info": {
   "codemirror_mode": {
    "name": "ipython",
    "version": 3
   },
   "file_extension": ".py",
   "mimetype": "text/x-python",
   "name": "python",
   "nbconvert_exporter": "python",
   "pygments_lexer": "ipython3",
   "version": "3.12.6"
  }
 },
 "nbformat": 4,
 "nbformat_minor": 2
}
