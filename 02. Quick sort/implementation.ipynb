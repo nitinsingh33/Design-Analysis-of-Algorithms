{
 "cells": [
  {
   "cell_type": "markdown",
   "metadata": {},
   "source": [
    "Quick Sort is a divide and conquer algorithm that works by selecting a \"pivot\" element, partitioning the array into two sub-arrays, and then recursively sorting those sub-arrays."
   ]
  }
 ],
 "metadata": {
  "language_info": {
   "name": "python"
  }
 },
 "nbformat": 4,
 "nbformat_minor": 2
}
