{
 "cells": [
  {
   "cell_type": "markdown",
   "metadata": {},
   "source": [
    "Quick Sort is a divide and conquer algorithm that works by selecting a \"pivot\" element, partitioning the array into two sub-arrays, and then recursively sorting those sub-arrays.\n",
    "\n",
    "Gneral Principle (Qicksort):\n",
    "\n",
    "    1. Choose pivot element (usually last or random)\n",
    "\n",
    "    2. All elements less than pivot stores in left subarray\n",
    "       All elements grester than pivot stores in right subarray\n",
    "       \n",
    "    3. Call quicksort recursively on left subarray\n",
    "       Call quicksort recursively on right subarray  \n"
   ]
  }
 ],
 "metadata": {
  "language_info": {
   "name": "python"
  }
 },
 "nbformat": 4,
 "nbformat_minor": 2
}
