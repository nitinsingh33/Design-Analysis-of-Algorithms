{
 "cells": [
  {
   "cell_type": "markdown",
   "metadata": {},
   "source": [
    "Merge Sort based on the principle on Divide and Conquer Algorithm.\n",
    "\n",
    "1. Dividing the array into two halves.\n",
    "2. Sorting each half recursively.\n",
    "3. Merging the sorted halves to produce a final sorted array.\n",
    "\n",
    "Step-by-Step Explanation:\n",
    "\n",
    "Divide: Split the array into two halves until each sub-array has only one element.\n",
    "Conquer: Recursively sort the left and right halves.\n",
    "Combine: Merge the sorted halves back together into a single sorted array."
   ]
  },
  {
   "cell_type": "code",
   "execution_count": null,
   "metadata": {},
   "outputs": [],
   "source": []
  }
 ],
 "metadata": {
  "kernelspec": {
   "display_name": "Python 3",
   "language": "python",
   "name": "python3"
  },
  "language_info": {
   "name": "python",
   "version": "3.12.6"
  }
 },
 "nbformat": 4,
 "nbformat_minor": 2
}
