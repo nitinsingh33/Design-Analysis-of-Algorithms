{
 "cells": [
  {
   "cell_type": "code",
   "execution_count": 2,
   "metadata": {},
   "outputs": [
    {
     "name": "stdout",
     "output_type": "stream",
     "text": [
      "[10, 26, 30, 41, 45, 75, 89, 90]\n"
     ]
    }
   ],
   "source": [
    "def merge_sort(arr):\n",
    "    if len(arr)<=1:\n",
    "        return arr\n",
    "\n",
    "    left_arr = arr[:len(arr)//2]\n",
    "    right_arr = arr[len(arr)//2:]\n",
    "\n",
    "    merge_sort(left_arr)\n",
    "    merge_sort(right_arr)\n",
    "\n",
    "    i = 0\n",
    "    j = 0\n",
    "    k = 0\n",
    "    while i<len(left_arr) and j<len(right_arr):\n",
    "        if left_arr[i] < right_arr[j]:\n",
    "            arr[k] = left_arr[i]\n",
    "            i+=1\n",
    "        else: \n",
    "            arr[k] = right_arr[j]\n",
    "            j+=1\n",
    "        k+=1\n",
    "    while i<len(left_arr):\n",
    "        arr[k] = left_arr[i]\n",
    "        i+=1\n",
    "        k+=1\n",
    "    while j<len(right_arr):\n",
    "        arr[k] = right_arr[j]\n",
    "        j+=1\n",
    "        k+=1\n",
    "\n",
    "arr_test=[10,90,75,26,45,89,41,30]\n",
    "merge_sort(arr_test)\n",
    "print(arr_test)\n"
   ]
  }
 ],
 "metadata": {
  "kernelspec": {
   "display_name": "Python 3",
   "language": "python",
   "name": "python3"
  },
  "language_info": {
   "codemirror_mode": {
    "name": "ipython",
    "version": 3
   },
   "file_extension": ".py",
   "mimetype": "text/x-python",
   "name": "python",
   "nbconvert_exporter": "python",
   "pygments_lexer": "ipython3",
   "version": "3.12.6"
  }
 },
 "nbformat": 4,
 "nbformat_minor": 2
}
