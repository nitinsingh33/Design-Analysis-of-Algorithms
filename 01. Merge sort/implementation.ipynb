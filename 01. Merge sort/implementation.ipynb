{
 "cells": [
  {
   "cell_type": "markdown",
   "metadata": {},
   "source": [
    "Merge Sort based on the principle on Divide and Conquer Algorithm.\n",
    "\n",
    "1. Dividing the array into two halves.\n",
    "2. Sorting each half recursively.\n",
    "3. Merging the sorted halves to produce a final sorted array.\n",
    "\n",
    "Step-by-Step Explanation:\n",
    "\n",
    "Divide: Split the array into two halves until each sub-array has only one element.\n",
    "\n",
    "Conquer: Recursively sort the left and right halves.\n",
    "\n",
    "Combine: Merge the sorted halves back together into a single sorted array."
   ]
  },
  {
   "cell_type": "markdown",
   "metadata": {},
   "source": [
    "Merge Sort Algorithm:\n",
    "\n",
    "Step 1: Base Case\n",
    "If the array has one element or is empty, it's already sorted, so return it.\n",
    "\n",
    "Step 2: Recursive Case\n",
    "Split the array into two halves, sort each half recursively, then merge the two sorted halves.\n",
    "\n",
    "Step 3: Merging\n",
    "To merge two sorted arrays, compare the smallest elements of both arrays and build a new array by picking the smaller element.\n",
    "\n"
   ]
  }
 ],
 "metadata": {
  "kernelspec": {
   "display_name": "Python 3",
   "language": "python",
   "name": "python3"
  },
  "language_info": {
   "name": "python",
   "version": "3.12.6"
  }
 },
 "nbformat": 4,
 "nbformat_minor": 2
}
