{
 "cells": [
  {
   "cell_type": "markdown",
   "metadata": {},
   "source": [
    "Quick Sort is a divide and conquer algorithm that works by selecting a \"pivot\" element, partitioning the array into two sub-arrays, and then recursively sorting those sub-arrays.\n",
    "\n",
    "Gneral Principle (Qicksort):\n",
    "\n",
    "    1. Choose pivot element (usually last or random)\n",
    "\n",
    "    2. All elements less than pivot stores in left subarray\n",
    "       All elements grester than pivot stores in right subarray\n",
    "       \n",
    "    3. Call quicksort recursively on left subarray\n",
    "       Call quicksort recursively on right subarray  \n"
   ]
  },
  {
   "cell_type": "code",
   "execution_count": null,
   "metadata": {},
   "outputs": [],
   "source": [
    "def quick_sort(arr):\n",
    "    if"
   ]
  }
 ],
 "metadata": {
  "kernelspec": {
   "display_name": "Python 3",
   "language": "python",
   "name": "python3"
  },
  "language_info": {
   "name": "python",
   "version": "3.12.6"
  }
 },
 "nbformat": 4,
 "nbformat_minor": 2
}
