{
 "cells": [
  {
   "cell_type": "markdown",
   "metadata": {},
   "source": [
    "Merge Sort based on the principle on Divide and Conquer Algorithm.\n",
    "\n",
    "1. Dividing the array into two halves.\n",
    "2. Sorting each half recursively.\n",
    "3. Merging the sorted halves to produce a final sorted array.\n",
    "\n",
    "Step-by-Step Explanation:\n",
    "\n",
    "**Divide:** Split the array into two halves until each sub-array has only one element.\n",
    "\n",
    "**Conquer:** Recursively sort the left and right halves.\n",
    "\n",
    "**Combine:** Merge the sorted halves back together into a single sorted array."
   ]
  },
  {
   "cell_type": "markdown",
   "metadata": {},
   "source": [
    "Merge Sort Algorithm:\n",
    "\n",
    "Step 1: Base Case\n",
    "If the array has one element or is empty, it's already sorted, so return it.\n",
    "\n",
    "Step 2: Recursive Case\n",
    "Split the array into two halves, sort each half recursively, then merge the two sorted halves.\n",
    "\n",
    "Step 3: Merging\n",
    "To merge two sorted arrays, compare the smallest elements of both arrays and build a new array by picking the smaller element.\n",
    "\n"
   ]
  },
  {
   "cell_type": "code",
   "execution_count": null,
   "metadata": {},
   "outputs": [
    {
     "name": "stdout",
     "output_type": "stream",
     "text": [
      "[0, 1, 2, 2, 3, 4, 4, 4, 5, 6, 7]\n"
     ]
    }
   ],
   "source": [
    "def merge_sort(arr):\n",
    "    if len(arr) <= 1:  #Base case: If the array has only one element or is empty, it's already sorted\n",
    "        return arr\n",
    "    \n",
    "    #Step 1: Divide the array into two halves\n",
    "    left_arr =  arr[:len(arr)//2]\n",
    "    right_arr = arr[len(arr)//2:]\n",
    "\n",
    "    #Step 2: Recursion sort the two halves\n",
    "    merge_sort(left_arr)\n",
    "    merge_sort(right_arr)\n",
    "\n",
    "    #Step 3: Merge the sorted halves\n",
    "    i = 0           # left_arr idx\n",
    "    j = 0           # right_arr idx\n",
    "    k = 0           # merged arr idx\n",
    "\n",
    "    # compare element of both arrays and add the smaller element to the sorted array\n",
    "    while i<len(left_arr) and j<len(right_arr):   \n",
    "        if left_arr[i]<right_arr[j]:\n",
    "            arr[k]=left_arr[i]\n",
    "            i+=1\n",
    "        else:\n",
    "            arr[k]=right_arr[j]\n",
    "            j+=1\n",
    "        k+=1\n",
    "    # एक टाइम ऐसा आयेगा जब दोनों मे से एक sub-array खतम हो जाएगी (empty) और तब हमे चेक करना होगा    \n",
    "    while i<len(left_arr):   # मान लो पहली वाली sub-arr बची हुई है तो यह condition true होगी    \n",
    "        arr[k]=left_arr[i]\n",
    "        i+=1\n",
    "        k+=1\n",
    "    while j<len(right_arr):  # मान लो दूसरी वाली sub-arr बची हुई है तो यह condition true होगी\n",
    "        arr[k]=right_arr[j]\n",
    "        j+=1\n",
    "        k+=1        \n",
    "\n",
    "\n",
    "arr_test = [2, 3, 5, 1, 7, 4, 4, 4, 2, 6, 0]\n",
    "merge_sort(arr_test)\n",
    "print(arr_test)   "
   ]
  }
 ],
 "metadata": {
  "kernelspec": {
   "display_name": "Python 3",
   "language": "python",
   "name": "python3"
  },
  "language_info": {
   "codemirror_mode": {
    "name": "ipython",
    "version": 3
   },
   "file_extension": ".py",
   "mimetype": "text/x-python",
   "name": "python",
   "nbconvert_exporter": "python",
   "pygments_lexer": "ipython3",
   "version": "3.12.6"
  }
 },
 "nbformat": 4,
 "nbformat_minor": 2
}
